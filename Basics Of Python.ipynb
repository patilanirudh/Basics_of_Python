{
 "cells": [
  {
   "cell_type": "markdown",
   "id": "6e9c3c6f",
   "metadata": {},
   "source": [
    "# <center><span style='color:brown'>Fundamentals Of Python</span></center>"
   ]
  },
  {
   "cell_type": "markdown",
   "id": "9e1ef4c4",
   "metadata": {},
   "source": [
    "# Key Points \n",
    "__-1.Python is open source<br>\n",
    "-2.Python is interpreted <br>\n",
    "-3.It is cross platform compatible (windows,linux and Mac)<br>\n",
    "-4.It is object oriented programming language<br>\n",
    "-5.It is extensible (wide range of libraries)<br>\n",
    "-6.Python is Interactive<br>\n",
    "-7.Database connectivity(Oracle, Mysql)<br>__\n"
   ]
  },
  {
   "cell_type": "markdown",
   "id": "2d87d592",
   "metadata": {},
   "source": [
    " <style \"color=Blue;\">Fundamentals of Python </style>"
   ]
  },
  {
   "cell_type": "markdown",
   "id": "c0bb8660",
   "metadata": {},
   "source": [
    "# Basics"
   ]
  },
  {
   "cell_type": "markdown",
   "id": "486bdc5f",
   "metadata": {},
   "source": [
    "1. Identifiers : All variables,functions,classes and objects are identified by a name known as Identifier.\n",
    "               Ex: Amount=1000, >> Here 'Amount' is a identifier.\n",
    "             \n",
    "2. Keywords : They are the reserved words in python. Which cannot be used as a name to a variable,idetifier etc.\n",
    "               Ex: If, for, where, break etc\n",
    "\n",
    "3. Variables: They are like containers which help to store data.\n",
    "               Ex: Amount=1000 >> Here '1000' is stored in a varible named 'Amount'.\n",
    "               "
   ]
  },
  {
   "cell_type": "markdown",
   "id": "7a25ae18",
   "metadata": {},
   "source": [
    "# Input and Print Function"
   ]
  },
  {
   "cell_type": "code",
   "execution_count": 23,
   "id": "4ed32d48",
   "metadata": {},
   "outputs": [
    {
     "name": "stdout",
     "output_type": "stream",
     "text": [
      "enter a no: 3\n",
      "The no stored in 'a' is:  3\n",
      "The type of 'a' is: <class 'str'>\n",
      "enter a no: 3\n",
      "The no stored in 'b' is:  3\n",
      "The type of 'b' is: <class 'int'>\n"
     ]
    }
   ],
   "source": [
    "#case1: Since all input are in string format we need to convert it to int if we needed:\n",
    "a=input('enter a no: ')\n",
    "print('The no stored in \\'a\\' is: ',a)\n",
    "print('The type of \\'a\\' is:',type(a))\n",
    "\n",
    "#case2: We can get the input in int format\n",
    "b=int(input('enter a no: '))\n",
    "print('The no stored in \\'b\\' is: ',b)\n",
    "print('The type of \\'b\\' is:',type(b))"
   ]
  },
  {
   "cell_type": "code",
   "execution_count": 68,
   "id": "aa345638",
   "metadata": {},
   "outputs": [
    {
     "name": "stdout",
     "output_type": "stream",
     "text": [
      "Hi!! How are You ? \n",
      " I am fine\n",
      "Hi!! How are You ?I am fine\n",
      "Hi!! How are You ?:I am fine\n",
      "c=10.12356 \n"
     ]
    }
   ],
   "source": [
    "#Print is used to print the output in some formats:\n",
    "a=\"Hi!! How are You ?\"\n",
    "b=\"I am fine\"\n",
    "c=10.12356\n",
    "print(a,\"\\n\",b)       #\"\\n\" is used to write on next line\n",
    "print(a+b,)           #here two strings are concatenated/joined using \"+\" operator\n",
    "print(a,b,sep=':')    # 'sep' is used to add seperations needed in required format\n",
    "print('c=%0.5f '%c)   # \"%0.5f\" defines number of decimal places included\n"
   ]
  },
  {
   "cell_type": "markdown",
   "id": "102521bf",
   "metadata": {},
   "source": [
    "# Operators"
   ]
  },
  {
   "cell_type": "code",
   "execution_count": 1,
   "id": "e069c8a5",
   "metadata": {},
   "outputs": [
    {
     "name": "stdout",
     "output_type": "stream",
     "text": [
      "15\n",
      "5\n",
      "2.0\n",
      "50\n",
      "0\n",
      "2\n"
     ]
    }
   ],
   "source": [
    "#Arithmatic Operators(+,-,*,/, %,//)\n",
    "\n",
    "a=10\n",
    "b=5\n",
    "print(a+b)\n",
    "print(a-b)\n",
    "print(a/b)\n",
    "print(a*b)\n",
    "print(a%b)\n",
    "print(a//b)\n"
   ]
  },
  {
   "cell_type": "code",
   "execution_count": 4,
   "id": "1bd6e36e",
   "metadata": {},
   "outputs": [
    {
     "name": "stdout",
     "output_type": "stream",
     "text": [
      "False\n",
      "True\n",
      "True\n",
      "False\n",
      "True\n",
      "False\n"
     ]
    }
   ],
   "source": [
    "#Relational Operators(==,!=,>,<,>=,<=)\n",
    "\n",
    "a=10\n",
    "b=5\n",
    "print(a==b)\n",
    "print(a!=b)\n",
    "print(a>b)\n",
    "print(a<b)\n",
    "print(a>=b)\n",
    "print(a<=b)\n",
    "\n",
    "\n"
   ]
  },
  {
   "cell_type": "code",
   "execution_count": 15,
   "id": "4e53b283",
   "metadata": {},
   "outputs": [
    {
     "name": "stdout",
     "output_type": "stream",
     "text": [
      "5\n",
      "10\n",
      "5\n",
      "25\n",
      "5.0\n",
      "0.0\n"
     ]
    }
   ],
   "source": [
    "#Assignment Operators(=,+=,-=,*=,/=,%=)\n",
    "\n",
    "a=10\n",
    "b=5\n",
    "\n",
    "a=b\n",
    "print(a) #a==5\n",
    "\n",
    "\n",
    "a+=b     #5+5 ,a=10\n",
    "print(a)\n",
    "\n",
    "a-=b\n",
    "print(a)  #10-5, a=5 again\n",
    "\n",
    "a*=b\n",
    "print(a) #5*5\n",
    "\n",
    "a/=b\n",
    "print(a) #a=25 so 25/5; a=5\n",
    "\n",
    "a%=b\n",
    "print(a) #5%5=0\n"
   ]
  },
  {
   "cell_type": "code",
   "execution_count": 29,
   "id": "3499a24e",
   "metadata": {},
   "outputs": [
    {
     "name": "stdout",
     "output_type": "stream",
     "text": [
      "0\n",
      "1\n",
      "True\n"
     ]
    }
   ],
   "source": [
    "#Logical Operators(and,or,not)\n",
    "a=0\n",
    "b=1\n",
    "\n",
    "print(a & b)\n",
    "print(a | b)\n",
    "print(not a)"
   ]
  },
  {
   "cell_type": "markdown",
   "id": "0b96656d",
   "metadata": {},
   "source": [
    "# Type Conversion (Implicit and explicit)"
   ]
  },
  {
   "cell_type": "code",
   "execution_count": 40,
   "id": "3f3e3e24",
   "metadata": {},
   "outputs": [
    {
     "name": "stdout",
     "output_type": "stream",
     "text": [
      "20.9\n"
     ]
    }
   ],
   "source": [
    "#__Implicit conversion __>> Here the conversion is done by interpretor automatically i.e.; lower data types are converted to higher\n",
    "num1=10.9\n",
    "num2=10\n",
    "result=num1+num2\n",
    "print(result)\n",
    "\n",
    "#As result is in float though one of the input is int.\n",
    "#it follows int<float<string<bool"
   ]
  },
  {
   "cell_type": "code",
   "execution_count": 42,
   "id": "92837dc0",
   "metadata": {},
   "outputs": [
    {
     "name": "stdout",
     "output_type": "stream",
     "text": [
      "20\n"
     ]
    }
   ],
   "source": [
    "#explicit conversion\n",
    "\n",
    "#case1: \n",
    "#num1='10'\n",
    "#num2=10\n",
    "#result=num1+num2\n",
    "#print(result)\n",
    "\n",
    "#case2:\n",
    "num1='10'\n",
    "num2=10\n",
    "result=int(num1)+num2 #explicitely coverted to int from string data type\n",
    "print(result)\n",
    "\n",
    "\n"
   ]
  },
  {
   "cell_type": "code",
   "execution_count": 45,
   "id": "6b6013e3",
   "metadata": {},
   "outputs": [
    {
     "data": {
      "text/plain": [
       "'it is a multple \\n line comment so make the use of cmments  \\n whrerever necessary'"
      ]
     },
     "execution_count": 45,
     "metadata": {},
     "output_type": "execute_result"
    }
   ],
   "source": [
    "# it is a single line comment\n",
    "\n",
    "'''it is a multple \n",
    " line comment so make the use of cmments  \n",
    " whrerever necessary'''"
   ]
  },
  {
   "cell_type": "markdown",
   "id": "5bfcfbf9",
   "metadata": {},
   "source": [
    "# <span style=\"color:Green\">Control Structures </span>"
   ]
  },
  {
   "cell_type": "markdown",
   "id": "37207a92",
   "metadata": {},
   "source": [
    "**__They are used to control the execution flow of python program__ <br>\n",
    "__1. Selection Control Structures (if, else etc)__ <br>\n",
    "__2. Iteration control structures (for, while etc)__"
   ]
  },
  {
   "cell_type": "code",
   "execution_count": 48,
   "id": "37312c77",
   "metadata": {},
   "outputs": [
    {
     "name": "stdout",
     "output_type": "stream",
     "text": [
      "enetr any number8\n",
      "The Number 8  is positive and is greater than zero\n"
     ]
    }
   ],
   "source": [
    "#Simple if\n",
    "\n",
    "#To find if the no is greater than '0'\n",
    "a=int(input(\"enetr any number\"))\n",
    "if(a>0):\n",
    "    print(\"The Number\",a,\" is positive and is greater than zero\")"
   ]
  },
  {
   "cell_type": "code",
   "execution_count": 49,
   "id": "03719e9e",
   "metadata": {},
   "outputs": [
    {
     "name": "stdout",
     "output_type": "stream",
     "text": [
      "enter a no3\n",
      "the number 3 is odd\n"
     ]
    }
   ],
   "source": [
    "# if-else :\n",
    "\n",
    "#To find the number is even or odd\n",
    "\n",
    "a=int(input(\"enter a no\"))\n",
    "if(a%2==0):\n",
    "    print(\"The number \",a,'is even')\n",
    "else:\n",
    "    print(\"The number\",a,\"is odd\")"
   ]
  },
  {
   "cell_type": "code",
   "execution_count": 53,
   "id": "43487037",
   "metadata": {},
   "outputs": [
    {
     "name": "stdout",
     "output_type": "stream",
     "text": [
      "enter a no 0\n",
      "The number is Zero\n"
     ]
    }
   ],
   "source": [
    "# else-if ladder\n",
    "\n",
    "# To distinguish between positive,negative and zero\n",
    "\n",
    "a=int(input(\"enter a no \"))\n",
    "if(a>0):\n",
    "    print(\"The number \",a,'is positive')\n",
    "elif(a<0):\n",
    "    print(\"The number\",a,\"is negative\")\n",
    "else:\n",
    "    print(\"The number is Zero\")"
   ]
  },
  {
   "cell_type": "code",
   "execution_count": 57,
   "id": "37337261",
   "metadata": {},
   "outputs": [
    {
     "name": "stdout",
     "output_type": "stream",
     "text": [
      "num1 is greater : 1000\n"
     ]
    }
   ],
   "source": [
    "# nested if statement:\n",
    "\n",
    "# to see greatest of three numbers:\n",
    "\n",
    "num1=1000\n",
    "num2=700\n",
    "num3=90\n",
    "\n",
    "if(num1>num2):\n",
    "    if(num1>num3):\n",
    "        print(\"num1 is greater :\",num1)\n",
    "    else:\n",
    "        print(\"num3 is greater:\", num3)\n",
    "elif(num2>num3):\n",
    "    print(\"num2 is greater :\",num2)\n",
    "else:\n",
    "    print(\"num3 is greater :\",num3)\n"
   ]
  },
  {
   "cell_type": "markdown",
   "id": "6edbb92c",
   "metadata": {},
   "source": [
    "# <span style=\"color:Blue\">__Loops__</span>"
   ]
  },
  {
   "cell_type": "code",
   "execution_count": 111,
   "id": "beb8f6d7",
   "metadata": {},
   "outputs": [
    {
     "name": "stdout",
     "output_type": "stream",
     "text": [
      "5\n",
      "4\n",
      "3\n",
      "2\n",
      "1\n"
     ]
    }
   ],
   "source": [
    "#while loop:\n",
    "#The while loop is used to execute a piece of code as long as the test condition is True. The while loop is preferred whenever the number of iterations is not known.'''\n",
    "\n",
    "#to print number in reverse \n",
    "a=5\n",
    "count=a\n",
    "while(count>0):\n",
    "    print(count)\n",
    "    count-=1\n",
    "  \n",
    "    \n",
    "    \n",
    "    \n"
   ]
  },
  {
   "cell_type": "code",
   "execution_count": 8,
   "id": "885ed1de",
   "metadata": {},
   "outputs": [
    {
     "name": "stdout",
     "output_type": "stream",
     "text": [
      "5\n",
      "4\n",
      "3\n",
      "2\n",
      "1\n"
     ]
    }
   ],
   "source": [
    "#for loop: It allows to run over a specific sequence of values as a result we can avoid infinite loops\n",
    "\n",
    "#to print number in reverse\n",
    "a=5\n",
    "for i in range(0,a):\n",
    "    i=a-i\n",
    "    print(i)\n",
    "    "
   ]
  },
  {
   "cell_type": "code",
   "execution_count": 17,
   "id": "d14a96f7",
   "metadata": {},
   "outputs": [
    {
     "name": "stdout",
     "output_type": "stream",
     "text": [
      "enter the no of array elements :4\n",
      "enter array elements: 1\n",
      "enter array elements: 2\n",
      "enter array elements: 3\n",
      "enter array elements: 4\n",
      "The array is : [1, 2, 3, 4]\n"
     ]
    }
   ],
   "source": [
    "# to take user array input using for loop\n",
    "\n",
    "import pandas as pd\n",
    "import numpy as np\n",
    "a=int(input(\"enter the no of array elements :\"))\n",
    "temp=[]\n",
    "for i in range(0,a):\n",
    "    b=int(input(\"enter array elements: \"))\n",
    "    temp.append(b)\n",
    "print(\"The array is :\",temp)"
   ]
  },
  {
   "cell_type": "markdown",
   "id": "0006e9e2",
   "metadata": {},
   "source": [
    "# Functions"
   ]
  },
  {
   "cell_type": "code",
   "execution_count": 12,
   "id": "6554c185",
   "metadata": {},
   "outputs": [
    {
     "name": "stdout",
     "output_type": "stream",
     "text": [
      "enter a number: 5\n",
      "The Suqare of number 5  is : 25\n"
     ]
    }
   ],
   "source": [
    "#Write a Python function, find_square() that accepts an integer number n and returns the square of n. Invoke the function and display the square of the number. \n",
    "\n",
    "def find_square(x):\n",
    "    square=x*x\n",
    "    return square\n",
    "\n",
    "x=(int(input('enter a number: ')))\n",
    "print('The Suqare of number',x,' is :',find_square(x))\n"
   ]
  },
  {
   "cell_type": "code",
   "execution_count": 29,
   "id": "9afc29f3",
   "metadata": {},
   "outputs": [
    {
     "name": "stdout",
     "output_type": "stream",
     "text": [
      "enter the number till the sum needs to be calculated: 10\n",
      "sum of first 10  natural numbers is : 55\n"
     ]
    }
   ],
   "source": [
    "#Write a Python function, find_sum() that accepts an integer n and returns the sum of first n numbers. Invoke the function and display the sum of first n numbers.\n",
    "\n",
    "def find_sum(x):\n",
    "    summ=0\n",
    "    for i in range(1,x+1):\n",
    "        summ=summ+i\n",
    "    print('sum of first', x,' natural numbers is :',summ)\n",
    "x=int(input('enter the number till the sum needs to be calculated: '))\n",
    "find_sum(x)\n"
   ]
  },
  {
   "cell_type": "markdown",
   "id": "1078c289",
   "metadata": {},
   "source": [
    "__Pass by value__"
   ]
  },
  {
   "cell_type": "code",
   "execution_count": 31,
   "id": "583583fa",
   "metadata": {},
   "outputs": [
    {
     "name": "stdout",
     "output_type": "stream",
     "text": [
      "before function call, num= 10\n",
      "in function,num= 30\n",
      "after function call,num= 10\n"
     ]
    }
   ],
   "source": [
    "\n",
    "def change_vl(age):\n",
    "    age+=20\n",
    "    print('in function,num=',age)\n",
    "num=10\n",
    "print('before function call, num=',num)\n",
    "change_vl(num)\n",
    "print('after function call,num=',num)"
   ]
  },
  {
   "cell_type": "markdown",
   "id": "47f69fc9",
   "metadata": {},
   "source": [
    "__Pass by Referance__"
   ]
  },
  {
   "cell_type": "code",
   "execution_count": 32,
   "id": "b602f088",
   "metadata": {},
   "outputs": [
    {
     "name": "stdout",
     "output_type": "stream",
     "text": [
      "begore fun ,num= [10]\n",
      "in function,num= [10, 20]\n",
      "after fun call,num= [10, 20]\n"
     ]
    }
   ],
   "source": [
    "def change_val(arg):\n",
    "    arg+=[20]\n",
    "    print('in function,num=',arg)\n",
    "num=[10]\n",
    "print('begore fun ,num=',num)\n",
    "change_val(num)\n",
    "print('after fun call,num=',num)"
   ]
  },
  {
   "cell_type": "markdown",
   "id": "172ca5db",
   "metadata": {},
   "source": [
    "__Functions with some examples:__"
   ]
  },
  {
   "cell_type": "code",
   "execution_count": 34,
   "id": "bbbe8cfe",
   "metadata": {},
   "outputs": [
    {
     "name": "stdout",
     "output_type": "stream",
     "text": [
      "*********effect of pass by value*********\n",
      "num_val before function call: 10\n",
      "num_val after function call: 10\n",
      "-----------------------------------------------\n",
      "*********effect of pass by reference*********\n",
      "val_list before function call: [5, 10, 15]\n",
      "val_list after function call: [5, 10, 15, 20]\n"
     ]
    }
   ],
   "source": [
    "def change_number(num):\n",
    "    num+=10\n",
    "def change_list(num_list):\n",
    "    num_list.append(20)\n",
    "num_val=10\n",
    "print(\"*********effect of pass by value*********\")\n",
    "print(\"num_val before function call:\", num_val)\n",
    "change_number(num_val)\n",
    "print(\"num_val after function call:\", num_val)\n",
    "print(\"-----------------------------------------------\")\n",
    "val_list=[5,10,15]\n",
    "print(\"*********effect of pass by reference*********\")\n",
    "print(\"val_list before function call:\", val_list)\n",
    "change_list(val_list)\n",
    "print(\"val_list after function call:\", val_list)\n"
   ]
  },
  {
   "cell_type": "code",
   "execution_count": 77,
   "id": "483aa924",
   "metadata": {},
   "outputs": [
    {
     "name": "stdout",
     "output_type": "stream",
     "text": [
      "120\n"
     ]
    }
   ],
   "source": [
    "def fact(num):\n",
    "    factorial=1\n",
    "    for i in range(1,num+1):\n",
    "        factorial*=i;\n",
    "    print(factorial)\n",
    "fact(5)\n",
    "    "
   ]
  },
  {
   "cell_type": "code",
   "execution_count": 41,
   "id": "d38a9b94",
   "metadata": {},
   "outputs": [
    {
     "name": "stdout",
     "output_type": "stream",
     "text": [
      "enter a number: 1234\n",
      "The reverse of a number is 4321\n",
      "It is not a paliindrome!!\n"
     ]
    }
   ],
   "source": [
    "#To check if the number is pallindrome or not\n",
    "def pallindrome(y):\n",
    "    temp=0\n",
    "    summ=0\n",
    "    while(y>0):\n",
    "        summ=y%10\n",
    "        temp=(temp*10)+summ\n",
    "        y=y//10\n",
    "    print(\"The reverse of a number is\",temp)\n",
    "    if(temp==x):\n",
    "        print(\"The Number \",x,\"is a pallindrome\")\n",
    "    else:\n",
    "        print(\"It is not a paliindrome!!\")\n",
    "x=int(input(\"enter a number: \"))\n",
    "pallindrome(x)\n",
    "        "
   ]
  },
  {
   "cell_type": "code",
   "execution_count": 37,
   "id": "78933a19",
   "metadata": {},
   "outputs": [
    {
     "name": "stdout",
     "output_type": "stream",
     "text": [
      "enter a string:Madam\n",
      "string is a pallindrome: Madam\n"
     ]
    }
   ],
   "source": [
    "def Pallindrome_string(x):\n",
    "    y=x[::-1]\n",
    "    z=x.lower()\n",
    "    h=y.lower()\n",
    "    #print(z)\n",
    "    #print(h)\n",
    "    if(z==h):\n",
    "        print(\"string is a pallindrome:\",x)\n",
    "    else:\n",
    "        print(\"string is not pallindrome:\",x)\n",
    "x=input(\"enter a string:\")\n",
    "Pallindrome_string(x)"
   ]
  },
  {
   "cell_type": "code",
   "execution_count": 16,
   "id": "362acf5f",
   "metadata": {},
   "outputs": [
    {
     "name": "stdout",
     "output_type": "stream",
     "text": [
      "enter a number 220\n",
      "enter another number284\n",
      "The pair of numbers is Amicable 220 284\n"
     ]
    }
   ],
   "source": [
    "#To check if the pair of numbers are Amicable Numbers\n",
    "def num(x,y):\n",
    "    summ=0\n",
    "    count=0\n",
    "    \n",
    "    for i in range(1,x):\n",
    "        \n",
    "        if(x%i==0):\n",
    "            #print(i)\n",
    "            \n",
    "            summ=summ+i\n",
    "    #print(summ)\n",
    "    for j in range(1,y):\n",
    "        if(y%j==0):\n",
    "            #print(j)\n",
    "            count+=j\n",
    "    #print(count)\n",
    "    if(count==x and summ==y):\n",
    "        print('The pair of numbers is Amicable',x,y)\n",
    "    else:\n",
    "        print('The pair of Numbers is not amicable')\n",
    "            \n",
    "            \n",
    "        \n",
    "       \n",
    "    \n",
    "a=int(input(\"enter a number \"))  \n",
    "b=int(input(\"enter another number\"))\n",
    "    \n",
    "num(a,b)\n",
    "    \n",
    "    "
   ]
  },
  {
   "cell_type": "code",
   "execution_count": 10,
   "id": "c64a8b57",
   "metadata": {},
   "outputs": [
    {
     "name": "stdout",
     "output_type": "stream",
     "text": [
      "enter the number to be right shifted: 60\n",
      "enter the positions to be shifted right: 2\n",
      "Result after right shift is: 15\n"
     ]
    }
   ],
   "source": [
    "#Program to right shift a number by given input\n",
    "\n",
    "def right_shift(x,y):\n",
    "    res=x>>y  #converts to binary and then shifts by specified number of digits\n",
    "    return res\n",
    "x=int(input(\"enter the number to be right shifted: \"))\n",
    "y=int(input(\"enter the positions to be shifted right: \"))\n",
    "print(\"Result after right shift is:\",right_shift(x,y))"
   ]
  },
  {
   "cell_type": "code",
   "execution_count": 59,
   "id": "0b0fe846",
   "metadata": {},
   "outputs": [
    {
     "name": "stdout",
     "output_type": "stream",
     "text": [
      "enter a number :145\n",
      "Strong number it is : 145\n"
     ]
    }
   ],
   "source": [
    "#program to check a strong number:\n",
    "\n",
    "def Strong_Number(x):\n",
    "    \n",
    "    summ=0\n",
    "    y=x\n",
    "    #print(y)\n",
    "    \n",
    "    cnt=1\n",
    "    while(y):\n",
    "        i=1\n",
    "        f=1\n",
    "        temp=y%10\n",
    "        while(i<=temp):\n",
    "            f=f*i\n",
    "            i+=1\n",
    "        summ+=f\n",
    "        y//=10\n",
    "    if(x==summ):\n",
    "        print(\"Strong number it is :\",x)\n",
    "    else:\n",
    "        print(\"it is not a trong number :\",summ,x)\n",
    "        \n",
    "    \n",
    "        \n",
    "        \n",
    "\n",
    "   \n",
    "    \n",
    "     \n",
    "\n",
    "z=int(input(\"enter a number :\"))   \n",
    "Strong_Number(z)"
   ]
  },
  {
   "cell_type": "markdown",
   "id": "f519649c",
   "metadata": {},
   "source": [
    "# <span style=\"color:orange\">  Collections</span>"
   ]
  },
  {
   "cell_type": "markdown",
   "id": "2a22039b",
   "metadata": {},
   "source": [
    "__Following are the types of collections in python:__\n",
    "1. List\n",
    "2. Tuple\n",
    "3. String\n",
    "4. Set\n",
    "5. Dictionary"
   ]
  },
  {
   "cell_type": "markdown",
   "id": "5cf8c720",
   "metadata": {},
   "source": [
    "1. __List__"
   ]
  },
  {
   "cell_type": "code",
   "execution_count": 64,
   "id": "c8faa869",
   "metadata": {},
   "outputs": [
    {
     "name": "stdout",
     "output_type": "stream",
     "text": [
      "<class 'list'>\n",
      "5\n",
      "Ani\n"
     ]
    }
   ],
   "source": [
    "#Lists : Sample List\n",
    "\n",
    "List=[1,2,\"Ani\",1-2j,\"Hii\"]    #list can be homogenous or heterogenous\n",
    "print(type(List))              #Gives the type of List \n",
    "print(len(List))               #Gives the length of list\n",
    "print(List[2])                 #By index no we can access the elements of list\n"
   ]
  },
  {
   "cell_type": "code",
   "execution_count": 29,
   "id": "8f35b368",
   "metadata": {},
   "outputs": [
    {
     "name": "stdout",
     "output_type": "stream",
     "text": [
      "[23, 'Wakanda', [1, 2, 3]]\n",
      "[1, 2, 'Ani', (1-2j), 'Hii', 23, 'Wakanda', [1, 2, 3]]\n"
     ]
    }
   ],
   "source": [
    "#ways in which append or add a list\n",
    "List1=[23,\"Wakanda\"]\n",
    "List1.append([1,2,3])\n",
    "print(List1)\n",
    "\n",
    "List2=List+List1\n",
    "print(List2)"
   ]
  },
  {
   "cell_type": "code",
   "execution_count": 62,
   "id": "77d2d825",
   "metadata": {},
   "outputs": [
    {
     "name": "stdout",
     "output_type": "stream",
     "text": [
      "0 : 1\n",
      "1 : 2\n",
      "2 : 3\n",
      "3 : 4\n",
      "4 : 5\n",
      "5 : 6\n",
      "---------------------------------------------------------------------\n",
      "6\n",
      "[1, 2, 3]\n",
      "[1, 2, 3]\n",
      "[6, 5, 4, 3, 2, 1]\n"
     ]
    }
   ],
   "source": [
    "#Traversing Through a list and Slicing\n",
    "\n",
    "#Let us create a List \n",
    "List1=[1,2,3,4,5,6]\n",
    "for i in range(len(List1)):\n",
    "    print(i,end=\" : \") #here i gives the index and List[i] gives the element associated with the index\n",
    "    print(List1[i])\n",
    "\n",
    "print(\"---------------------------------------------------------------------\") \n",
    "\n",
    "#Slicing of lIst  \n",
    "\n",
    "print(len(List1))\n",
    "print(List1[0:3:1])    #slicing takes 3 inputs \"start,end,and step\"\n",
    "print(List1[-6:-3:1])  #Index starts from -1 from last\n",
    "print(List1[::-1])     #Reverse a list using slicing"
   ]
  },
  {
   "cell_type": "markdown",
   "id": "fb233e61",
   "metadata": {},
   "source": [
    "2. __Tuple__"
   ]
  },
  {
   "cell_type": "code",
   "execution_count": 72,
   "id": "af38a5a0",
   "metadata": {},
   "outputs": [
    {
     "data": {
      "text/plain": [
       "(4, 5, 'new', 1, 2, 'Hii')"
      ]
     },
     "execution_count": 72,
     "metadata": {},
     "output_type": "execute_result"
    }
   ],
   "source": [
    "#They are Immutable i.e.; Cannot be changed like list\n",
    "Tuple=(1,2,\"Hii\")\n",
    "#Tuple[3]=\"ani\"     #Once Tuple is declared we cannot change its eleements exclusively but we can add new tuple to the existing one\n",
    "tupl1=(4,5,\"new\")\n",
    "tup=tupl1+Tuple\n",
    "tup"
   ]
  },
  {
   "cell_type": "markdown",
   "id": "9b9c1d2b",
   "metadata": {},
   "source": [
    "3. __Strings__"
   ]
  },
  {
   "cell_type": "code",
   "execution_count": 84,
   "id": "9796ee71",
   "metadata": {},
   "outputs": [
    {
     "name": "stdout",
     "output_type": "stream",
     "text": [
      "Length of String : 5\n",
      "Iterating Through the String\n",
      "A\n",
      "N\n",
      "0\n",
      "0\n",
      "7\n",
      "concatenation of Strings : Code-AN007\n",
      "Slicing the string : 007\n"
     ]
    }
   ],
   "source": [
    "#In a program, not all values are numerical. We also have alphabetical or alpha numerical values. Such values are called strings.\n",
    "#Example:\"Hello World\", \"AABGT6715H\" ,like tuple, strings are also _IMMUTABLE_.\n",
    "\n",
    "\n",
    "#Creating a string\n",
    "\n",
    "Str=\"AN007\"\n",
    "Str1=\"Code-\"\n",
    "\n",
    "print(\"Length of String\",end=' : ')\n",
    "print(len(Str))\n",
    "\n",
    "print(\"Iterating Through the String\")\n",
    "for i in range(0,len(Str)):\n",
    "    print(Str[i])\n",
    "    \n",
    "print(\"concatenation of Strings\",end=\" : \")\n",
    "print(Str1+Str)\n",
    "\n",
    "\n",
    "print(\"Slicing the string\",end=\" : \")\n",
    "print(Str[2:5:1])\n",
    "\n",
    "\n",
    "\n",
    "\n",
    "\n",
    "\n",
    " \n",
    "\n"
   ]
  },
  {
   "cell_type": "code",
   "execution_count": 103,
   "id": "3e7e8f00",
   "metadata": {},
   "outputs": [
    {
     "name": "stdout",
     "output_type": "stream",
     "text": [
      "The Ticket number of Passenger 1 is : Al1mumSin101\n",
      "The Ticket number of Passenger 2 is : AL2PunMal102\n",
      "The Ticket number of Passenger 3 is : Al3DelLan103\n",
      "The Ticket number of Passenger 4 is : Al4BanAme104\n",
      "The Ticket number of Passenger 5 is : Al5hydBal105\n"
     ]
    }
   ],
   "source": [
    "# Write a Python program to generate the ticket numbers for specified number of passengers traveling in a \n",
    "# flight as per the details mentioned below:The ticket number should be generated as airline:src:dest:number \n",
    "# where Consider AL1 as the value for airline src and dest should be the first three characters of the source \n",
    "# and destination cities.Number should be auto-generated starting from 101\n",
    "\n",
    "\n",
    "\n",
    "List1=[\"Al1\",\"AL2\",\"Al3\",\"Al4\",\"Al5\"]                     #airline number \n",
    "List2=[\"mumbai\",\"Pune\",\"Delhi\",\"Banglore\",\"hyderbad\"]     #Source cities\n",
    "x=[i[0:3] for i in List2]\n",
    "#print(x)                                                 #Slicing and storing \n",
    "\n",
    "\n",
    "List3=[\"Singapore\",\"Malaysia\",\"Lanka\",\"America\",\"Bali\"]   #Destination cities\n",
    "y=[i[0:3] for i in List3]\n",
    "#print(y)\n",
    "\n",
    "count=100\n",
    "passenger=0\n",
    "for i in range(0,len(List1)):\n",
    "    count+=1\n",
    "    passenger+=1\n",
    "    \n",
    "    print(\"The Ticket number of Passenger\",passenger,\"is :\", List1[i]+x[i]+y[i]+str(count))\n",
    "    \n",
    "\n",
    "\n",
    "    \n",
    "    \n",
    "\n"
   ]
  },
  {
   "cell_type": "markdown",
   "id": "1f98dd0b",
   "metadata": {},
   "source": [
    "4. __Set__"
   ]
  },
  {
   "cell_type": "code",
   "execution_count": 118,
   "id": "5b808d15",
   "metadata": {},
   "outputs": [
    {
     "name": "stdout",
     "output_type": "stream",
     "text": [
      "{1, 2, 3, 4, 5}\n",
      "{1, 2, 3}\n",
      "{4, 5}\n",
      "{1, 2, 3, 4, 5, 6, 7, 8}\n"
     ]
    }
   ],
   "source": [
    "#A set is an unordered group of values with no duplicate entries.\n",
    "\n",
    "A={1,2,3,4,4,5} #Removes one duplicate and prints\n",
    "print(A)\n",
    "B={5,4,6,7,8}\n",
    "print(set(A)-set(B)) #Prints elements which are only in set A\n",
    "print(set(A) & set(B)) #prints common elements\n",
    "print(set(A) | set(B)) #prints all the elements\n"
   ]
  },
  {
   "cell_type": "markdown",
   "id": "a49af931",
   "metadata": {},
   "source": [
    "5. __Dictionary__"
   ]
  },
  {
   "cell_type": "code",
   "execution_count": 140,
   "id": "d4f0138e",
   "metadata": {},
   "outputs": [
    {
     "name": "stdout",
     "output_type": "stream",
     "text": [
      "dict_keys(['Name', 'Marks', 'ID']) \n",
      " dict_values(['Bob', 100, 'A123'])\n",
      "__________________________________________________\n",
      "using for loops iterating through dict:\n",
      "Name : Bob\n",
      "Marks : 100\n",
      "ID : A123\n"
     ]
    }
   ],
   "source": [
    "#A dictionary can be used to store an unordered collection of key-value pairs. \n",
    "# The key should be unique and can be of any data type. Like lists, dictionaries are mutable.\n",
    "\n",
    "Dict={\"Name\":\"Bob\",\"Marks\":100,\"ID\":\"A123\"}\n",
    "print( Dict.keys(),\"\\n\",Dict.values())\n",
    "\n",
    "print(\"__________________________________________________\")\n",
    "\n",
    "print(\"using for loops iterating through dict:\")\n",
    "for keys,values in Dict.items():\n",
    "    print(keys,\":\",values)"
   ]
  },
  {
   "cell_type": "code",
   "execution_count": 28,
   "id": "eb4c4f1e",
   "metadata": {},
   "outputs": [
    {
     "name": "stdout",
     "output_type": "stream",
     "text": [
      "[1, 2, 4, 5, 10, 11, 20, 22, 44, 55, 110]\n"
     ]
    }
   ],
   "source": [
    "# Write a Python function proper_divisors(num) which returns a list of all the proper divisors of given number.\n",
    "\n",
    "# Example: Proper divisors of 220 are 1, 2, 4, 5, 10, 11, 20, 22, 44, 55, 110\n",
    "\n",
    "import numpy as np\n",
    "import pandas as pd\n",
    "def proper_divisors(x):\n",
    "    lst=[]\n",
    "    for i in range(1,x):\n",
    "        if(x%i==0):\n",
    "            lst.append(i)\n",
    "            \n",
    "    print(lst)\n",
    "proper_divisors(220)\n",
    "            "
   ]
  },
  {
   "cell_type": "code",
   "execution_count": 3,
   "id": "1af0abb0",
   "metadata": {},
   "outputs": [
    {
     "name": "stdout",
     "output_type": "stream",
     "text": [
      "The Fibbonacci series of given  numbers is  : 0 1 1 2 3 5 8 13 21 34 "
     ]
    }
   ],
   "source": [
    "#Fibbonacci series\n",
    "\n",
    "def fibbo_series(x):\n",
    "    a=0\n",
    "    b=1\n",
    "    c=0\n",
    "    if(x==1):\n",
    "        print(a)\n",
    "    else:\n",
    "        print(\"The Fibbonacci series of given  numbers is \",end=\" : \")\n",
    "        for i in range(1,x+1):        \n",
    "            print(c,end=\" \")\n",
    "            a=b\n",
    "            b=c\n",
    "            c=a+b\n",
    "fibbo_series(10)\n",
    "\n",
    "        \n",
    "        \n",
    "    \n",
    "    \n",
    " "
   ]
  },
  {
   "cell_type": "markdown",
   "id": "bdf4fb4f",
   "metadata": {},
   "source": [
    "# <span style=\"color:Indigo\"> Libraries and Built in Functions</span>"
   ]
  },
  {
   "cell_type": "markdown",
   "id": "38523e58",
   "metadata": {},
   "source": [
    "#In Python, code organization and reusability is managed through modules and packages.<br>\n",
    "#A module is a Python file with a .py extension <br>\n",
    "#The import  statement is used to load a library module into the program's memory."
   ]
  },
  {
   "cell_type": "markdown",
   "id": "d19e9f0b",
   "metadata": {},
   "source": [
    "__Random And Math Module__"
   ]
  },
  {
   "cell_type": "code",
   "execution_count": 9,
   "id": "0c6ab8d9",
   "metadata": {},
   "outputs": [
    {
     "name": "stdout",
     "output_type": "stream",
     "text": [
      "35\n"
     ]
    }
   ],
   "source": [
    "import random\n",
    "a=10\n",
    "b=77\n",
    "print(random.randrange(a,b,5)) #generates a random number everytime."
   ]
  },
  {
   "cell_type": "code",
   "execution_count": 19,
   "id": "c3231483",
   "metadata": {},
   "outputs": [
    {
     "name": "stdout",
     "output_type": "stream",
     "text": [
      "124\n",
      "123\n",
      "120\n",
      "123.456\n"
     ]
    }
   ],
   "source": [
    "#Math Module\n",
    "\n",
    "import math\n",
    "\n",
    "a=123.456\n",
    "print(math.ceil(a))      \n",
    "print(math.floor(a))\n",
    "print(math.factorial(5))\n",
    "print(math.fabs(a))\n",
    "\n"
   ]
  },
  {
   "cell_type": "markdown",
   "id": "25e10895",
   "metadata": {},
   "source": [
    "__String Functions__"
   ]
  },
  {
   "cell_type": "code",
   "execution_count": 52,
   "id": "b57c17d4",
   "metadata": {},
   "outputs": [
    {
     "name": "stdout",
     "output_type": "stream",
     "text": [
      "3\n",
      "Wakande a ForevER\n",
      "5\n",
      "True\n",
      "True\n",
      "False\n",
      "WAKANDE A FOREVER\n",
      "wakande a forever\n",
      "['W', 'k', 'nde ', ' Forever']\n"
     ]
    }
   ],
   "source": [
    "#String data type in Python has many inbuilt functions which makes it easier to work with strings.\n",
    "\n",
    "Str1=\"Wakande a Forever\"\n",
    "\n",
    "print(Str1.count(\"e\"))          #counts the number of letters in a string\n",
    "print(Str1.replace(\"er\",\"ER\"))  #Replaces the given string with specified letter/string\n",
    "print(Str1.find(\"d\"))           #Returns the index of first occurance of letter \n",
    "print(Str1.startswith(\"Wa\"))    #Returs True if the string starts with the given string (case sensitive)\n",
    "print(Str1.endswith(\"r\"))      #Returs True if the string ends with the given string (case sensitive)\n",
    "print(Str1.isdigit())          #checks if the string is made of numbers only\n",
    "print(Str1.upper())            #converts the string to upperCase\n",
    "print(Str1.lower())            #converts the string to lowerCase\n",
    "print(Str1.split('a'))         #splits the string at given letter/string\n",
    "\n",
    "\n",
    "\n"
   ]
  },
  {
   "cell_type": "markdown",
   "id": "362b89c2",
   "metadata": {},
   "source": [
    "__List Functions__"
   ]
  },
  {
   "cell_type": "code",
   "execution_count": 78,
   "id": "d0117e8a",
   "metadata": {},
   "outputs": [
    {
     "name": "stdout",
     "output_type": "stream",
     "text": [
      "[21, 2, 13, 13, 3, 3, 4, 5, 6]\n",
      "8\n",
      "[21, 2, 13, 70, 13, 3, 3, 4, 5, 6]\n",
      "[21, 2, 13, 13, 3, 3, 4, 5, 6]\n",
      "[21, 2, 13, 13, 3, 4, 5, 6]\n",
      "[2, 3, 4, 5, 6, 13, 13, 21]\n",
      "[21, 13, 13, 6, 5, 4, 3, 2]\n"
     ]
    }
   ],
   "source": [
    "#consider a following list\n",
    "\n",
    "\n",
    "lst1=[21,2,13,13,3,3,4,5]\n",
    "\n",
    "lst1.append(6)\n",
    "print(lst1)               #Appends the specified element to the end of list\n",
    "\n",
    "print(lst1.index(6))      #gives out the specified index element\n",
    "\n",
    "lst1.insert(3,70)         #inserts the given element at specified index\n",
    "print(lst1)\n",
    "\n",
    "lst1.pop(3)               #removes the elemnt from the specified index\n",
    "print(lst1)\n",
    "\n",
    "lst1.remove(3)            #removes the specified element\n",
    "print(lst1)\n",
    "\n",
    "\n",
    "lst1.sort()               #sorts the lst in ascending order\n",
    "print(lst1)\n",
    "\n",
    "lst1.reverse()            #revreses the list\n",
    "print(lst1)\n",
    "\n",
    "\n",
    "\n",
    "\n",
    "\n",
    "\n",
    "\n",
    "\n"
   ]
  },
  {
   "cell_type": "markdown",
   "id": "0f127ba0",
   "metadata": {},
   "source": [
    "__DIctionary Function__"
   ]
  },
  {
   "cell_type": "code",
   "execution_count": 86,
   "id": "6eeaaa16",
   "metadata": {},
   "outputs": [
    {
     "name": "stdout",
     "output_type": "stream",
     "text": [
      "Bob\n",
      "{'name': 'Bob', 'marks': 76, 'Id': 'AA009'}\n"
     ]
    }
   ],
   "source": [
    "#consider a dictionary\n",
    "\n",
    "Dict1={\"name\":\"Bob\",\"marks\":67,\"Id\":\"AA009\"}\n",
    "\n",
    "print(Dict1.get(\"name\"))   #gets the related value of key mentioned\n",
    "\n",
    "(Dict1.update({\"marks\":76}))   #updates the dictionary as specified and if key is already present then the value is overwritten \n",
    "print(Dict1)\n"
   ]
  },
  {
   "cell_type": "markdown",
   "id": "1f7be824",
   "metadata": {},
   "source": [
    "__Regular Expressions__"
   ]
  },
  {
   "cell_type": "code",
   "execution_count": 111,
   "id": "4eac2f71",
   "metadata": {},
   "outputs": [
    {
     "name": "stdout",
     "output_type": "stream",
     "text": [
      "string found\n"
     ]
    }
   ],
   "source": [
    "#Regular Expressions are used to check and extract relevant portions of a string based on a pattern and modify if required. \n",
    "#Python has a module named 're' for regular expressions.\n",
    "\n",
    "import re\n",
    "\n",
    "#Consider a string\n",
    "#there are many regex functions please go through them:\n",
    "\n",
    "str1=\"Indian Airlines\"\n",
    "\n",
    "if(re.search(r\"Air\",str1)):      #searches the asociated characters/string and returns the output\n",
    "    print(\"string found\")\n",
    "else:\n",
    "    print(\"string not found\")"
   ]
  },
  {
   "cell_type": "markdown",
   "id": "b5b2a620",
   "metadata": {},
   "source": [
    "# <center><span style=\"color:Red\">Thank You</span></center>"
   ]
  }
 ],
 "metadata": {
  "kernelspec": {
   "display_name": "Python 3 (ipykernel)",
   "language": "python",
   "name": "python3"
  },
  "language_info": {
   "codemirror_mode": {
    "name": "ipython",
    "version": 3
   },
   "file_extension": ".py",
   "mimetype": "text/x-python",
   "name": "python",
   "nbconvert_exporter": "python",
   "pygments_lexer": "ipython3",
   "version": "3.9.7"
  }
 },
 "nbformat": 4,
 "nbformat_minor": 5
}
